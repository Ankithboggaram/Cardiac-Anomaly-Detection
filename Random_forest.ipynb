{
  "nbformat": 4,
  "nbformat_minor": 0,
  "metadata": {
    "colab": {
      "name": "Arrhythmia_RF.ipynb",
      "provenance": [],
      "collapsed_sections": []
    },
    "kernelspec": {
      "name": "python3",
      "display_name": "Python 3"
    },
    "language_info": {
      "name": "python"
    }
  },
  "cells": [
    {
      "cell_type": "code",
      "metadata": {
        "id": "yoUsG_5OehjG"
      },
      "source": [
        "!pip install --upgrade wfdb\n",
        "!pip install tensorflow_model_optimization\n",
        "!pip install --upgrade kerop\n",
        "!pip install tensorflow"
      ],
      "execution_count": null,
      "outputs": []
    },
    {
      "cell_type": "code",
      "metadata": {
        "id": "Lt-X1sblesF9"
      },
      "source": [
        "import pandas as pd\n",
        "import numpy as np\n",
        "import wfdb\n",
        "from sklearn.model_selection import train_test_split\n",
        "from sklearn.preprocessing import StandardScaler\n",
        "import matplotlib.pyplot as plt\n",
        "from pathlib import Path\n",
        "from sklearn.ensemble import RandomForestClassifier\n",
        "from sklearn import tree\n",
        "from matplotlib.legend_handler import HandlerLine2D\n",
        "from sklearn.metrics import roc_curve, auc, roc_auc_score\n",
        "from sklearn.model_selection import StratifiedKFold"
      ],
      "execution_count": null,
      "outputs": []
    },
    {
      "cell_type": "code",
      "metadata": {
        "colab": {
          "base_uri": "https://localhost:8080/"
        },
        "id": "nDedxhanfI-t",
        "outputId": "88b6582e-6936-4165-fc6e-46a30107a1d3"
      },
      "source": [
        "from google.colab import drive\n",
        "drive.mount(\"/content/gdrive\")"
      ],
      "execution_count": null,
      "outputs": [
        {
          "output_type": "stream",
          "name": "stdout",
          "text": [
            "Mounted at /content/gdrive\n"
          ]
        }
      ]
    },
    {
      "cell_type": "code",
      "metadata": {
        "id": "_xmHcDDNfJ9c"
      },
      "source": [
        "!unzip gdrive/MyDrive/mit-bih-arrhythmia-database-1.0.0.zip"
      ],
      "execution_count": null,
      "outputs": []
    },
    {
      "cell_type": "code",
      "metadata": {
        "id": "Dkz5G3BKfMjU"
      },
      "source": [
        "#records = np.loadtxt(\"/content/gdrive/MyDrive/Datasets/RHMS/ARR/RECORDS\", dtype=int)\n",
        "records = np.loadtxt(\"mit-bih-arrhythmia-database-1.0.0/RECORDS\", dtype=int)"
      ],
      "execution_count": null,
      "outputs": []
    },
    {
      "cell_type": "code",
      "metadata": {
        "id": "l0Qetii6fRvk"
      },
      "source": [
        "#These are the beat classifications according to physiobank\n",
        "\n",
        "invalid = [ \"[\", \"!\", \"]\", \"x\", \"(\", \")\", \"p\", \"t\", \"u\", \"`\", \"'\", \"^\", \"|\", \"~\", \"+\", \"s\", \"T\", \"*\", \"D\", \"=\", '\"', \"@\" ]\n",
        "\n",
        "abnormal = [ \"L\", \"R\", \"B\", \"A\", \"a\", \"J\", \"S\", \"V\", \"r\", \"F\", \"e\", \"j\", \"n\", \"E\", \"/\", \"f\", \"Q\", \"?\" ]"
      ],
      "execution_count": null,
      "outputs": []
    },
    {
      "cell_type": "code",
      "metadata": {
        "id": "lZysEDpOfSz4"
      },
      "source": [
        "def classify_beat(symbol):\n",
        "    if symbol in abnormal :\n",
        "        return 1\n",
        "    elif symbol == \"N\" or symbol == \".\":\n",
        "        return 0"
      ],
      "execution_count": null,
      "outputs": []
    },
    {
      "cell_type": "code",
      "metadata": {
        "id": "UEAAJKjYfWcq"
      },
      "source": [
        "def get_sequence(signal, beat_loc, window_sec, fs):\n",
        "    window_one_side = window_sec * fs\n",
        "    beat_start = beat_loc - window_one_side\n",
        "    beat_end = beat_loc + window_one_side\n",
        "    if beat_end < signal.shape[0]:\n",
        "        sequence = signal[beat_start:beat_end, 0]\n",
        "        return sequence.reshape(1, -1, 1)\n",
        "    else:\n",
        "        return np.array([])"
      ],
      "execution_count": null,
      "outputs": []
    },
    {
      "cell_type": "code",
      "metadata": {
        "id": "_4U8zleafjGt"
      },
      "source": [
        "all_sequences = []\n",
        "all_labels = []\n",
        "window_sec = 3\n",
        "subject_map = []\n",
        "for subject in records:\n",
        "    #record = wfdb.rdrecord(f'/content/gdrive/MyDrive/Datasets/RHMS/ARR/{subject}')\n",
        "    #annotation = wfdb.rdann(f'/content/gdrive/MyDrive/Datasets/RHMS/ARR/{subject}', 'atr')\n",
        "    record = wfdb.rdrecord(f'mit-bih-arrhythmia-database-1.0.0/{subject}')\n",
        "    annotation = wfdb.rdann(f'mit-bih-arrhythmia-database-1.0.0/{subject}', 'atr')\n",
        "    atr_symbol = annotation.symbol\n",
        "    atr_sample = annotation.sample\n",
        "    fs = record.fs\n",
        "    scaler = StandardScaler()\n",
        "    signal = scaler.fit_transform(record.p_signal)\n",
        "    subject_labels = []\n",
        "    for i, i_sample in enumerate(atr_sample):\n",
        "        label = classify_beat(atr_symbol[i])\n",
        "        sequence = get_sequence(signal, i_sample, window_sec, fs)\n",
        "        if label is not None and sequence.size > 0:\n",
        "            all_sequences.append(sequence)\n",
        "            subject_labels.append(label)\n",
        "\n",
        "    normal_percentage = sum(subject_labels) / len(subject_labels)\n",
        "    subject_map.append({\n",
        "        \"subject\": subject,\n",
        "        \"percentage\": normal_percentage,\n",
        "        \"num_seq\": len(subject_labels),\n",
        "        \"start\": len(all_labels),\n",
        "        \"end\": len(all_labels)+len(subject_labels)\n",
        "    })\n",
        "    all_labels.extend(subject_labels)"
      ],
      "execution_count": null,
      "outputs": []
    },
    {
      "cell_type": "code",
      "metadata": {
        "id": "poiTzvx4fj99"
      },
      "source": [
        "subject_map = pd.DataFrame(subject_map)"
      ],
      "execution_count": null,
      "outputs": []
    },
    {
      "cell_type": "code",
      "metadata": {
        "id": "ze_YDC96fovM"
      },
      "source": [
        "bins = [0, 0.2, 0.6, 1.0]\n",
        "subject_map[\"bin\"] = pd.cut(subject_map['percentage'], bins=bins, labels=False, include_lowest=True)"
      ],
      "execution_count": null,
      "outputs": []
    },
    {
      "cell_type": "code",
      "metadata": {
        "id": "027LV0elBOs9"
      },
      "source": [
        "def train_validate_test_split(df, train_percent=.6, validate_percent=.2, seed=None):\n",
        "    np.random.seed(seed)\n",
        "    perm = np.random.permutation(df.index)\n",
        "    m = len(df.index)\n",
        "    train_end = int(train_percent * m)\n",
        "    validate_end = int(validate_percent * m) + train_end\n",
        "    train = df.iloc[perm[:train_end]]\n",
        "    validate = df.iloc[perm[train_end:validate_end]]\n",
        "    test = df.iloc[perm[validate_end:]]\n",
        "    return train, validate, test"
      ],
      "execution_count": null,
      "outputs": []
    },
    {
      "cell_type": "code",
      "metadata": {
        "id": "Cm112kWKfv0v"
      },
      "source": [
        "def build_dataset(df, all_sequences, all_labels):\n",
        "    sequences = []\n",
        "    labels = []\n",
        "    for i, row in df.iterrows():\n",
        "        start = int(row[\"start\"])\n",
        "        end = int(row[\"end\"])\n",
        "        sequences.extend(all_sequences[start:end])\n",
        "        labels.extend(all_labels[start:end])\n",
        "        \n",
        "    return np.vstack(sequences), np.vstack(labels)"
      ],
      "execution_count": null,
      "outputs": []
    },
    {
      "cell_type": "code",
      "metadata": {
        "id": "KWnNy7ySfpnU"
      },
      "source": [
        "#train, validation = train_test_split(subject_map, test_size=0.25, stratify=subject_map[\"bin\"], random_state=42)\n",
        "train, validation, test = train_validate_test_split(subject_map)\n",
        "train, validation, test"
      ],
      "execution_count": null,
      "outputs": []
    },
    {
      "cell_type": "code",
      "metadata": {
        "id": "Gs4s_0RtfxCk"
      },
      "source": [
        "X_train, y_train = build_dataset(train, all_sequences, all_labels)\n",
        "X_val, y_val = build_dataset(validation, all_sequences, all_labels)\n",
        "X_test, y_test = build_dataset(test, all_sequences, all_labels)"
      ],
      "execution_count": null,
      "outputs": []
    },
    {
      "cell_type": "code",
      "metadata": {
        "id": "tV6uaajftjL9"
      },
      "source": [
        "data = pd.DataFrame(X_val.reshape(X_val.shape[0], X_val.shape[1]))\n",
        "data['label'] = y_val\n",
        "# This conversion takes a few minutes\n",
        "data.to_csv('/content/gdrive/MyDrive/val.csv')"
      ],
      "execution_count": null,
      "outputs": []
    },
    {
      "cell_type": "code",
      "metadata": {
        "id": "XvBlnTUgt4TF"
      },
      "source": [
        "data"
      ],
      "execution_count": null,
      "outputs": []
    },
    {
      "cell_type": "code",
      "metadata": {
        "id": "DXXgQL1tf0Mk",
        "colab": {
          "base_uri": "https://localhost:8080/"
        },
        "outputId": "8312a5de-c4e5-4aea-867f-763252681e7e"
      },
      "source": [
        "X_train.shape, y_train.shape"
      ],
      "execution_count": null,
      "outputs": [
        {
          "output_type": "execute_result",
          "data": {
            "text/plain": [
              "((63728, 2160, 1), (63728, 1))"
            ]
          },
          "metadata": {},
          "execution_count": 20
        }
      ]
    },
    {
      "cell_type": "code",
      "metadata": {
        "id": "muKeg_jywpcs",
        "colab": {
          "base_uri": "https://localhost:8080/"
        },
        "outputId": "90aa927e-86d4-4235-fe81-7f052b2682f6"
      },
      "source": [
        "X_val.shape, y_val.shape"
      ],
      "execution_count": null,
      "outputs": [
        {
          "output_type": "execute_result",
          "data": {
            "text/plain": [
              "((19968, 2160, 1), (19968, 1))"
            ]
          },
          "metadata": {},
          "execution_count": 21
        }
      ]
    },
    {
      "cell_type": "code",
      "metadata": {
        "colab": {
          "base_uri": "https://localhost:8080/"
        },
        "id": "H9_Zd7Q_ERCn",
        "outputId": "8552d927-d8fe-4b69-ff14-ebd2d882b8cc"
      },
      "source": [
        "X_test.shape, y_test.shape"
      ],
      "execution_count": null,
      "outputs": [
        {
          "output_type": "execute_result",
          "data": {
            "text/plain": [
              "((25436, 2160, 1), (25436, 1))"
            ]
          },
          "metadata": {},
          "execution_count": 22
        }
      ]
    },
    {
      "cell_type": "code",
      "metadata": {
        "id": "rKUDipAPqyA3"
      },
      "source": [
        "X_train1 = np.reshape(X_train,(X_train.shape[0],X_train.shape[1]))\n",
        "X_val1 = np.reshape(X_val,(X_val.shape[0],X_val.shape[1]))\n",
        "X_test1 = np.reshape(X_test,(X_test.shape[0], X_test.shape[1]))"
      ],
      "execution_count": null,
      "outputs": []
    },
    {
      "cell_type": "markdown",
      "metadata": {
        "id": "a6l4p7_IgUqO"
      },
      "source": [
        "The Random Forest"
      ]
    },
    {
      "cell_type": "code",
      "metadata": {
        "id": "5gz0CFlIgYY9",
        "colab": {
          "base_uri": "https://localhost:8080/"
        },
        "outputId": "8a5d0cbc-3b1d-453c-a704-8ca8fdf18353"
      },
      "source": [
        "rf = RandomForestClassifier(n_estimators=10,\n",
        "                            random_state=0)\n",
        "rf.fit(X_train1, y_train.ravel())"
      ],
      "execution_count": null,
      "outputs": [
        {
          "output_type": "execute_result",
          "data": {
            "text/plain": [
              "RandomForestClassifier(bootstrap=True, ccp_alpha=0.0, class_weight=None,\n",
              "                       criterion='gini', max_depth=None, max_features='auto',\n",
              "                       max_leaf_nodes=None, max_samples=None,\n",
              "                       min_impurity_decrease=0.0, min_impurity_split=None,\n",
              "                       min_samples_leaf=1, min_samples_split=2,\n",
              "                       min_weight_fraction_leaf=0.0, n_estimators=10,\n",
              "                       n_jobs=None, oob_score=False, random_state=0, verbose=0,\n",
              "                       warm_start=False)"
            ]
          },
          "metadata": {},
          "execution_count": 32
        }
      ]
    },
    {
      "cell_type": "code",
      "metadata": {
        "colab": {
          "base_uri": "https://localhost:8080/"
        },
        "id": "zy1aO1fq-VB-",
        "outputId": "e8a2e929-00c4-4677-8ac3-8c5273760a16"
      },
      "source": [
        "y_pred = rf.predict(X_test1)\n",
        "y_pred"
      ],
      "execution_count": null,
      "outputs": [
        {
          "output_type": "execute_result",
          "data": {
            "text/plain": [
              "array([1, 1, 0, ..., 0, 0, 0])"
            ]
          },
          "metadata": {},
          "execution_count": 33
        }
      ]
    },
    {
      "cell_type": "code",
      "metadata": {
        "colab": {
          "base_uri": "https://localhost:8080/"
        },
        "id": "MPaDzvSnavgb",
        "outputId": "e289c5c8-513d-427c-8184-9bfa5145f405"
      },
      "source": [
        "# The training accuracy of the Random forest\n",
        "rf.score(X_train1,y_train)"
      ],
      "execution_count": null,
      "outputs": [
        {
          "output_type": "execute_result",
          "data": {
            "text/plain": [
              "0.998054230479538"
            ]
          },
          "metadata": {},
          "execution_count": 34
        }
      ]
    },
    {
      "cell_type": "code",
      "metadata": {
        "colab": {
          "base_uri": "https://localhost:8080/"
        },
        "id": "XvSo1xxQZB9Z",
        "outputId": "229fb8fc-52c1-4862-c854-ab0e8c697e73"
      },
      "source": [
        "# The test accuracy of the Random forest\n",
        "rf.score(X_test1,y_test)"
      ],
      "execution_count": null,
      "outputs": [
        {
          "output_type": "execute_result",
          "data": {
            "text/plain": [
              "0.8395581066205379"
            ]
          },
          "metadata": {},
          "execution_count": 35
        }
      ]
    },
    {
      "cell_type": "code",
      "metadata": {
        "id": "jRRvYmahspsf",
        "colab": {
          "base_uri": "https://localhost:8080/"
        },
        "outputId": "d86b5a87-a5c1-4132-87c9-6922d84c80eb"
      },
      "source": [
        "# The final validation accuracy of the Random forest\n",
        "rf.score(X_val1,y_val)"
      ],
      "execution_count": null,
      "outputs": [
        {
          "output_type": "execute_result",
          "data": {
            "text/plain": [
              "0.918770032051282"
            ]
          },
          "metadata": {},
          "execution_count": 36
        }
      ]
    },
    {
      "cell_type": "code",
      "metadata": {
        "colab": {
          "base_uri": "https://localhost:8080/",
          "height": 171
        },
        "id": "S2KJBCHUHKDZ",
        "outputId": "38b17250-aaca-4991-bdad-25cfbec5d7e3"
      },
      "source": [
        "# Execute this later\n",
        "# print(\"Classification report - \\n\", classification_report(y_test,y_pred))"
      ],
      "execution_count": null,
      "outputs": [
        {
          "output_type": "error",
          "ename": "NameError",
          "evalue": "ignored",
          "traceback": [
            "\u001b[0;31m---------------------------------------------------------------------------\u001b[0m",
            "\u001b[0;31mNameError\u001b[0m                                 Traceback (most recent call last)",
            "\u001b[0;32m<ipython-input-1-a00e6b17d9ff>\u001b[0m in \u001b[0;36m<module>\u001b[0;34m()\u001b[0m\n\u001b[0;32m----> 1\u001b[0;31m \u001b[0mprint\u001b[0m\u001b[0;34m(\u001b[0m\u001b[0;34m\"Classification report - \\n\"\u001b[0m\u001b[0;34m,\u001b[0m \u001b[0mclassification_report\u001b[0m\u001b[0;34m(\u001b[0m\u001b[0my_test\u001b[0m\u001b[0;34m,\u001b[0m\u001b[0my_pred\u001b[0m\u001b[0;34m)\u001b[0m\u001b[0;34m)\u001b[0m\u001b[0;34m\u001b[0m\u001b[0;34m\u001b[0m\u001b[0m\n\u001b[0m",
            "\u001b[0;31mNameError\u001b[0m: name 'classification_report' is not defined"
          ]
        }
      ]
    },
    {
      "cell_type": "code",
      "metadata": {
        "colab": {
          "base_uri": "https://localhost:8080/"
        },
        "id": "B_n1ksT38xI6",
        "outputId": "455d5efc-4ad4-452c-f80a-f1daa522bac9"
      },
      "source": [
        "false_positive_rate, true_positive_rate, thresholds = roc_curve(y_test, y_pred)\n",
        "roc_auc = auc(false_positive_rate, true_positive_rate)\n",
        "roc_auc"
      ],
      "execution_count": null,
      "outputs": [
        {
          "output_type": "execute_result",
          "data": {
            "text/plain": [
              "0.7602019856393482"
            ]
          },
          "metadata": {},
          "execution_count": 37
        }
      ]
    },
    {
      "cell_type": "markdown",
      "metadata": {
        "id": "BT2zI4RQca9B"
      },
      "source": [
        "Testing:\n"
      ]
    },
    {
      "cell_type": "code",
      "metadata": {
        "id": "E9P3zwul3imo"
      },
      "source": [
        "# Trying to estimate the optimal value of n in the RF\n",
        "# Takes approx. 20 years (jk, around 35 mins.) to execute, for n = 100 and n = 200. Do NOT execute this more than once. Check graph for the optimal value of n\n",
        "n_estimators = [1, 2, 4, 8, 10, 16, 32, 64, 100, 200]\n",
        "train_results = []\n",
        "test_results = []\n",
        "for estimator in n_estimators:\n",
        "   rf = RandomForestClassifier(n_estimators=estimator, n_jobs=-1)\n",
        "   rf.fit(X_train1, y_train)   \n",
        "   train_pred = rf.predict(X_train1)   \n",
        "   false_positive_rate, true_positive_rate, thresholds = roc_curve(y_train, train_pred)\n",
        "   roc_auc = auc(false_positive_rate, true_positive_rate)\n",
        "   train_results.append(roc_auc)   \n",
        "   y_pred = rf.predict(X_test1)   \n",
        "   false_positive_rate, true_positive_rate, thresholds = roc_curve(y_test, y_pred)\n",
        "   roc_auc = auc(false_positive_rate, true_positive_rate)\n",
        "   test_results.append(roc_auc)\n"
      ],
      "execution_count": null,
      "outputs": []
    },
    {
      "cell_type": "code",
      "metadata": {
        "id": "8Nx7XuRNO4E6"
      },
      "source": [
        "line1 = plt.plot(n_estimators, train_results, 'b', label=\"Train AUC\")\n",
        "line2 = plt.plot(n_estimators, test_results, 'r', label=\"Test AUC\")\n",
        "plt.legend(handler_map={line1: HandlerLine2D(numpoints=2)})\n",
        "plt.ylabel('AUC score')\n",
        "plt.xlabel('n_estimators')\n",
        "plt.show()"
      ],
      "execution_count": null,
      "outputs": []
    },
    {
      "cell_type": "code",
      "metadata": {
        "colab": {
          "base_uri": "https://localhost:8080/",
          "height": 713
        },
        "id": "2mwFIOSWp4J6",
        "outputId": "1ca233df-d679-4dcf-9c89-d76a7aaa1689"
      },
      "source": [
        "# Take 2 on trying to find the proper hyperparameters\n",
        "\n",
        "def plot_roc_curve(fprs, tprs):\n",
        "    \"\"\"Plot the Receiver Operating Characteristic from a list\n",
        "    of true positive rates and false positive rates.\"\"\"\n",
        "    \n",
        "    # Initialize useful lists + the plot axes.\n",
        "    tprs_interp = []\n",
        "    aucs = []\n",
        "    mean_fpr = np.linspace(0, 1, 100)\n",
        "    f, ax = plt.subplots(figsize=(14,10))\n",
        "    \n",
        "    # Plot ROC for each K-Fold + compute AUC scores.\n",
        "    for i, (fpr, tpr) in enumerate(zip(fprs, tprs)):\n",
        "        tprs_interp.append(np.interp(mean_fpr, fpr, tpr))\n",
        "        tprs_interp[-1][0] = 0.0\n",
        "        roc_auc = auc(fpr, tpr)\n",
        "        aucs.append(roc_auc)\n",
        "        ax.plot(fpr, tpr, lw=1, alpha=0.3,\n",
        "                 label='ROC fold %d (AUC = %0.2f)' % (i, roc_auc))\n",
        "        \n",
        "    # Plot the luck line.\n",
        "    plt.plot([0, 1], [0, 1], linestyle='--', lw=2, color='r',\n",
        "             label='Luck', alpha=.8)\n",
        "    \n",
        "    # Plot the mean ROC.\n",
        "    mean_tpr = np.mean(tprs_interp, axis=0)\n",
        "    mean_tpr[-1] = 1.0\n",
        "    mean_auc = auc(mean_fpr, mean_tpr)\n",
        "    std_auc = np.std(aucs)\n",
        "    ax.plot(mean_fpr, mean_tpr, color='b',\n",
        "             label=r'Mean ROC (AUC = %0.2f $\\pm$ %0.2f)' % (mean_auc, std_auc),\n",
        "             lw=2, alpha=.8)\n",
        "    \n",
        "    # Plot the standard deviation around the mean ROC.\n",
        "    std_tpr = np.std(tprs_interp, axis=0)\n",
        "    tprs_upper = np.minimum(mean_tpr + std_tpr, 1)\n",
        "    tprs_lower = np.maximum(mean_tpr - std_tpr, 0)\n",
        "    ax.fill_between(mean_fpr, tprs_lower, tprs_upper, color='grey', alpha=.2,\n",
        "                     label=r'$\\pm$ 1 std. dev.')\n",
        "    \n",
        "    # Fine tune and show the plot.\n",
        "    ax.set_xlim([-0.05, 1.05])\n",
        "    ax.set_ylim([-0.05, 1.05])\n",
        "    ax.set_xlabel('False Positive Rate')\n",
        "    ax.set_ylabel('True Positive Rate')\n",
        "    ax.set_title('Receiver operating characteristic')\n",
        "    ax.legend(loc=\"lower right\")\n",
        "    plt.show()\n",
        "    return (f, ax)\n",
        "\n",
        "def compute_roc_auc(index):\n",
        "    y_predict = rf.predict_proba(X_train1[index])[:,1]\n",
        "    fpr, tpr, thresholds = roc_curve(y_train[index], y_predict)\n",
        "    auc_score = auc(fpr, tpr)\n",
        "    return fpr, tpr, auc_score\n",
        "\n",
        "cv = StratifiedKFold(n_splits=5, random_state=123, shuffle=True)\n",
        "results = pd.DataFrame(columns=['training_score', 'test_score'])\n",
        "fprs, tprs, scores = [], [], []\n",
        "    \n",
        "for (train, test), i in zip(cv.split(X_train1, y_train), range(5)):\n",
        "    rf.fit(X_train1[train], y_train[train])\n",
        "    _, _, auc_score_train = compute_roc_auc(train)\n",
        "    fpr, tpr, auc_score = compute_roc_auc(test)\n",
        "    scores.append((auc_score_train, auc_score))\n",
        "    fprs.append(fpr)\n",
        "    tprs.append(tpr)\n",
        "\n",
        "plot_roc_curve(fprs, tprs);\n",
        "pd.DataFrame(scores, columns=['AUC Train', 'AUC Test'])"
      ],
      "execution_count": null,
      "outputs": [
        {
          "output_type": "stream",
          "name": "stderr",
          "text": [
            "/usr/local/lib/python3.7/dist-packages/ipykernel_launcher.py:63: DataConversionWarning: A column-vector y was passed when a 1d array was expected. Please change the shape of y to (n_samples,), for example using ravel().\n",
            "/usr/local/lib/python3.7/dist-packages/ipykernel_launcher.py:63: DataConversionWarning: A column-vector y was passed when a 1d array was expected. Please change the shape of y to (n_samples,), for example using ravel().\n",
            "/usr/local/lib/python3.7/dist-packages/ipykernel_launcher.py:63: DataConversionWarning: A column-vector y was passed when a 1d array was expected. Please change the shape of y to (n_samples,), for example using ravel().\n",
            "/usr/local/lib/python3.7/dist-packages/ipykernel_launcher.py:63: DataConversionWarning: A column-vector y was passed when a 1d array was expected. Please change the shape of y to (n_samples,), for example using ravel().\n",
            "/usr/local/lib/python3.7/dist-packages/ipykernel_launcher.py:63: DataConversionWarning: A column-vector y was passed when a 1d array was expected. Please change the shape of y to (n_samples,), for example using ravel().\n"
          ]
        },
        {
          "output_type": "error",
          "ename": "ImportError",
          "evalue": "ignored",
          "traceback": [
            "\u001b[0;31m---------------------------------------------------------------------------\u001b[0m",
            "\u001b[0;31mImportError\u001b[0m                               Traceback (most recent call last)",
            "\u001b[0;32m/usr/local/lib/python3.7/dist-packages/IPython/core/formatters.py\u001b[0m in \u001b[0;36m__call__\u001b[0;34m(self, obj)\u001b[0m\n\u001b[1;32m    332\u001b[0m                 \u001b[0;32mpass\u001b[0m\u001b[0;34m\u001b[0m\u001b[0;34m\u001b[0m\u001b[0m\n\u001b[1;32m    333\u001b[0m             \u001b[0;32melse\u001b[0m\u001b[0;34m:\u001b[0m\u001b[0;34m\u001b[0m\u001b[0;34m\u001b[0m\u001b[0m\n\u001b[0;32m--> 334\u001b[0;31m                 \u001b[0;32mreturn\u001b[0m \u001b[0mprinter\u001b[0m\u001b[0;34m(\u001b[0m\u001b[0mobj\u001b[0m\u001b[0;34m)\u001b[0m\u001b[0;34m\u001b[0m\u001b[0;34m\u001b[0m\u001b[0m\n\u001b[0m\u001b[1;32m    335\u001b[0m             \u001b[0;31m# Finally look for special method names\u001b[0m\u001b[0;34m\u001b[0m\u001b[0;34m\u001b[0m\u001b[0;34m\u001b[0m\u001b[0m\n\u001b[1;32m    336\u001b[0m             \u001b[0mmethod\u001b[0m \u001b[0;34m=\u001b[0m \u001b[0mget_real_method\u001b[0m\u001b[0;34m(\u001b[0m\u001b[0mobj\u001b[0m\u001b[0;34m,\u001b[0m \u001b[0mself\u001b[0m\u001b[0;34m.\u001b[0m\u001b[0mprint_method\u001b[0m\u001b[0;34m)\u001b[0m\u001b[0;34m\u001b[0m\u001b[0;34m\u001b[0m\u001b[0m\n",
            "\u001b[0;32m/usr/local/lib/python3.7/dist-packages/IPython/core/pylabtools.py\u001b[0m in \u001b[0;36m<lambda>\u001b[0;34m(fig)\u001b[0m\n\u001b[1;32m    239\u001b[0m \u001b[0;34m\u001b[0m\u001b[0m\n\u001b[1;32m    240\u001b[0m     \u001b[0;32mif\u001b[0m \u001b[0;34m'png'\u001b[0m \u001b[0;32min\u001b[0m \u001b[0mformats\u001b[0m\u001b[0;34m:\u001b[0m\u001b[0;34m\u001b[0m\u001b[0;34m\u001b[0m\u001b[0m\n\u001b[0;32m--> 241\u001b[0;31m         \u001b[0mpng_formatter\u001b[0m\u001b[0;34m.\u001b[0m\u001b[0mfor_type\u001b[0m\u001b[0;34m(\u001b[0m\u001b[0mFigure\u001b[0m\u001b[0;34m,\u001b[0m \u001b[0;32mlambda\u001b[0m \u001b[0mfig\u001b[0m\u001b[0;34m:\u001b[0m \u001b[0mprint_figure\u001b[0m\u001b[0;34m(\u001b[0m\u001b[0mfig\u001b[0m\u001b[0;34m,\u001b[0m \u001b[0;34m'png'\u001b[0m\u001b[0;34m,\u001b[0m \u001b[0;34m**\u001b[0m\u001b[0mkwargs\u001b[0m\u001b[0;34m)\u001b[0m\u001b[0;34m)\u001b[0m\u001b[0;34m\u001b[0m\u001b[0;34m\u001b[0m\u001b[0m\n\u001b[0m\u001b[1;32m    242\u001b[0m     \u001b[0;32mif\u001b[0m \u001b[0;34m'retina'\u001b[0m \u001b[0;32min\u001b[0m \u001b[0mformats\u001b[0m \u001b[0;32mor\u001b[0m \u001b[0;34m'png2x'\u001b[0m \u001b[0;32min\u001b[0m \u001b[0mformats\u001b[0m\u001b[0;34m:\u001b[0m\u001b[0;34m\u001b[0m\u001b[0;34m\u001b[0m\u001b[0m\n\u001b[1;32m    243\u001b[0m         \u001b[0mpng_formatter\u001b[0m\u001b[0;34m.\u001b[0m\u001b[0mfor_type\u001b[0m\u001b[0;34m(\u001b[0m\u001b[0mFigure\u001b[0m\u001b[0;34m,\u001b[0m \u001b[0;32mlambda\u001b[0m \u001b[0mfig\u001b[0m\u001b[0;34m:\u001b[0m \u001b[0mretina_figure\u001b[0m\u001b[0;34m(\u001b[0m\u001b[0mfig\u001b[0m\u001b[0;34m,\u001b[0m \u001b[0;34m**\u001b[0m\u001b[0mkwargs\u001b[0m\u001b[0;34m)\u001b[0m\u001b[0;34m)\u001b[0m\u001b[0;34m\u001b[0m\u001b[0;34m\u001b[0m\u001b[0m\n",
            "\u001b[0;32m/usr/local/lib/python3.7/dist-packages/IPython/core/pylabtools.py\u001b[0m in \u001b[0;36mprint_figure\u001b[0;34m(fig, fmt, bbox_inches, **kwargs)\u001b[0m\n\u001b[1;32m    123\u001b[0m \u001b[0;34m\u001b[0m\u001b[0m\n\u001b[1;32m    124\u001b[0m     \u001b[0mbytes_io\u001b[0m \u001b[0;34m=\u001b[0m \u001b[0mBytesIO\u001b[0m\u001b[0;34m(\u001b[0m\u001b[0;34m)\u001b[0m\u001b[0;34m\u001b[0m\u001b[0;34m\u001b[0m\u001b[0m\n\u001b[0;32m--> 125\u001b[0;31m     \u001b[0mfig\u001b[0m\u001b[0;34m.\u001b[0m\u001b[0mcanvas\u001b[0m\u001b[0;34m.\u001b[0m\u001b[0mprint_figure\u001b[0m\u001b[0;34m(\u001b[0m\u001b[0mbytes_io\u001b[0m\u001b[0;34m,\u001b[0m \u001b[0;34m**\u001b[0m\u001b[0mkw\u001b[0m\u001b[0;34m)\u001b[0m\u001b[0;34m\u001b[0m\u001b[0;34m\u001b[0m\u001b[0m\n\u001b[0m\u001b[1;32m    126\u001b[0m     \u001b[0mdata\u001b[0m \u001b[0;34m=\u001b[0m \u001b[0mbytes_io\u001b[0m\u001b[0;34m.\u001b[0m\u001b[0mgetvalue\u001b[0m\u001b[0;34m(\u001b[0m\u001b[0;34m)\u001b[0m\u001b[0;34m\u001b[0m\u001b[0;34m\u001b[0m\u001b[0m\n\u001b[1;32m    127\u001b[0m     \u001b[0;32mif\u001b[0m \u001b[0mfmt\u001b[0m \u001b[0;34m==\u001b[0m \u001b[0;34m'svg'\u001b[0m\u001b[0;34m:\u001b[0m\u001b[0;34m\u001b[0m\u001b[0;34m\u001b[0m\u001b[0m\n",
            "\u001b[0;32m/usr/local/lib/python3.7/dist-packages/matplotlib/backend_bases.py\u001b[0m in \u001b[0;36mprint_figure\u001b[0;34m(self, filename, dpi, facecolor, edgecolor, orientation, format, bbox_inches, **kwargs)\u001b[0m\n\u001b[1;32m   2092\u001b[0m         \u001b[0mfmt\u001b[0m \u001b[0;34m:\u001b[0m \u001b[0mstr\u001b[0m\u001b[0;34m\u001b[0m\u001b[0;34m\u001b[0m\u001b[0m\n\u001b[1;32m   2093\u001b[0m             \u001b[0mIf\u001b[0m \u001b[0;34m*\u001b[0m\u001b[0mbackend\u001b[0m\u001b[0;34m*\u001b[0m \u001b[0;32mis\u001b[0m \u001b[0;32mNone\u001b[0m\u001b[0;34m,\u001b[0m \u001b[0mthen\u001b[0m \u001b[0mdetermine\u001b[0m \u001b[0ma\u001b[0m \u001b[0msuitable\u001b[0m \u001b[0mcanvas\u001b[0m \u001b[0;32mclass\u001b[0m \u001b[0;32mfor\u001b[0m\u001b[0;34m\u001b[0m\u001b[0;34m\u001b[0m\u001b[0m\n\u001b[0;32m-> 2094\u001b[0;31m             \u001b[0msaving\u001b[0m \u001b[0mto\u001b[0m \u001b[0mformat\u001b[0m \u001b[0;34m*\u001b[0m\u001b[0mfmt\u001b[0m\u001b[0;34m*\u001b[0m \u001b[0;34m-\u001b[0m\u001b[0;34m-\u001b[0m \u001b[0meither\u001b[0m \u001b[0mthe\u001b[0m \u001b[0mcurrent\u001b[0m \u001b[0mcanvas\u001b[0m \u001b[0;32mclass\u001b[0m\u001b[0;34m,\u001b[0m \u001b[0;32mif\u001b[0m \u001b[0mit\u001b[0m\u001b[0;34m\u001b[0m\u001b[0;34m\u001b[0m\u001b[0m\n\u001b[0m\u001b[1;32m   2095\u001b[0m             \u001b[0msupports\u001b[0m \u001b[0;34m*\u001b[0m\u001b[0mfmt\u001b[0m\u001b[0;34m*\u001b[0m\u001b[0;34m,\u001b[0m \u001b[0;32mor\u001b[0m \u001b[0mwhatever\u001b[0m\u001b[0;31m \u001b[0m\u001b[0;31m`\u001b[0m\u001b[0mget_registered_canvas_class\u001b[0m\u001b[0;31m`\u001b[0m \u001b[0mreturns\u001b[0m\u001b[0;34m;\u001b[0m\u001b[0;34m\u001b[0m\u001b[0;34m\u001b[0m\u001b[0m\n\u001b[1;32m   2096\u001b[0m             \u001b[0mswitch\u001b[0m \u001b[0mthe\u001b[0m \u001b[0mfigure\u001b[0m \u001b[0mcanvas\u001b[0m \u001b[0mto\u001b[0m \u001b[0mthat\u001b[0m \u001b[0mcanvas\u001b[0m \u001b[0;32mclass\u001b[0m\u001b[0;34m.\u001b[0m\u001b[0;34m\u001b[0m\u001b[0;34m\u001b[0m\u001b[0m\n",
            "\u001b[0;32m/usr/local/lib/python3.7/dist-packages/matplotlib/backend_bases.py\u001b[0m in \u001b[0;36m_get_renderer\u001b[0;34m(figure, print_method)\u001b[0m\n\u001b[1;32m   1558\u001b[0m     \"\"\"\n\u001b[1;32m   1559\u001b[0m     \u001b[0;31m# This is implemented by triggering a draw, then immediately jumping out of\u001b[0m\u001b[0;34m\u001b[0m\u001b[0;34m\u001b[0m\u001b[0;34m\u001b[0m\u001b[0m\n\u001b[0;32m-> 1560\u001b[0;31m     \u001b[0;31m# Figure.draw() by raising an exception.\u001b[0m\u001b[0;34m\u001b[0m\u001b[0;34m\u001b[0m\u001b[0;34m\u001b[0m\u001b[0m\n\u001b[0m\u001b[1;32m   1561\u001b[0m \u001b[0;34m\u001b[0m\u001b[0m\n\u001b[1;32m   1562\u001b[0m     \u001b[0;32mclass\u001b[0m \u001b[0mDone\u001b[0m\u001b[0;34m(\u001b[0m\u001b[0mException\u001b[0m\u001b[0;34m)\u001b[0m\u001b[0;34m:\u001b[0m\u001b[0;34m\u001b[0m\u001b[0;34m\u001b[0m\u001b[0m\n",
            "\u001b[0;32m/usr/local/lib/python3.7/dist-packages/matplotlib/backends/backend_agg.py\u001b[0m in \u001b[0;36mprint_png\u001b[0;34m(self, filename_or_obj, metadata, pil_kwargs, *args, **kwargs)\u001b[0m\n\u001b[1;32m    503\u001b[0m             \u001b[0mKeyword\u001b[0m \u001b[0marguments\u001b[0m \u001b[0mpassed\u001b[0m \u001b[0mto\u001b[0m\u001b[0;31m \u001b[0m\u001b[0;31m`\u001b[0m\u001b[0mPIL\u001b[0m\u001b[0;34m.\u001b[0m\u001b[0mImage\u001b[0m\u001b[0;34m.\u001b[0m\u001b[0mImage\u001b[0m\u001b[0;34m.\u001b[0m\u001b[0msave\u001b[0m\u001b[0;31m`\u001b[0m\u001b[0;34m.\u001b[0m\u001b[0;34m\u001b[0m\u001b[0;34m\u001b[0m\u001b[0m\n\u001b[1;32m    504\u001b[0m \u001b[0;34m\u001b[0m\u001b[0m\n\u001b[0;32m--> 505\u001b[0;31m             \u001b[0mIf\u001b[0m \u001b[0mthe\u001b[0m \u001b[0;34m'pnginfo'\u001b[0m \u001b[0mkey\u001b[0m \u001b[0;32mis\u001b[0m \u001b[0mpresent\u001b[0m\u001b[0;34m,\u001b[0m \u001b[0mit\u001b[0m \u001b[0mcompletely\u001b[0m \u001b[0moverrides\u001b[0m\u001b[0;34m\u001b[0m\u001b[0;34m\u001b[0m\u001b[0m\n\u001b[0m\u001b[1;32m    506\u001b[0m             \u001b[0;34m*\u001b[0m\u001b[0mmetadata\u001b[0m\u001b[0;34m*\u001b[0m\u001b[0;34m,\u001b[0m \u001b[0mincluding\u001b[0m \u001b[0mthe\u001b[0m \u001b[0mdefault\u001b[0m \u001b[0;34m'Software'\u001b[0m \u001b[0mkey\u001b[0m\u001b[0;34m.\u001b[0m\u001b[0;34m\u001b[0m\u001b[0;34m\u001b[0m\u001b[0m\n\u001b[1;32m    507\u001b[0m         \"\"\"\n",
            "\u001b[0;31mImportError\u001b[0m: cannot import name '_png' from 'matplotlib' (/usr/local/lib/python3.7/dist-packages/matplotlib/__init__.py)"
          ]
        },
        {
          "output_type": "display_data",
          "data": {
            "text/plain": [
              "<Figure size 1008x720 with 1 Axes>"
            ]
          },
          "metadata": {
            "needs_background": "light"
          }
        },
        {
          "output_type": "execute_result",
          "data": {
            "text/html": [
              "<div>\n",
              "<style scoped>\n",
              "    .dataframe tbody tr th:only-of-type {\n",
              "        vertical-align: middle;\n",
              "    }\n",
              "\n",
              "    .dataframe tbody tr th {\n",
              "        vertical-align: top;\n",
              "    }\n",
              "\n",
              "    .dataframe thead th {\n",
              "        text-align: right;\n",
              "    }\n",
              "</style>\n",
              "<table border=\"1\" class=\"dataframe\">\n",
              "  <thead>\n",
              "    <tr style=\"text-align: right;\">\n",
              "      <th></th>\n",
              "      <th>AUC Train</th>\n",
              "      <th>AUC Test</th>\n",
              "    </tr>\n",
              "  </thead>\n",
              "  <tbody>\n",
              "    <tr>\n",
              "      <th>0</th>\n",
              "      <td>0.999994</td>\n",
              "      <td>0.990359</td>\n",
              "    </tr>\n",
              "    <tr>\n",
              "      <th>1</th>\n",
              "      <td>0.999991</td>\n",
              "      <td>0.991889</td>\n",
              "    </tr>\n",
              "    <tr>\n",
              "      <th>2</th>\n",
              "      <td>0.999989</td>\n",
              "      <td>0.991940</td>\n",
              "    </tr>\n",
              "    <tr>\n",
              "      <th>3</th>\n",
              "      <td>0.999994</td>\n",
              "      <td>0.992259</td>\n",
              "    </tr>\n",
              "    <tr>\n",
              "      <th>4</th>\n",
              "      <td>0.999991</td>\n",
              "      <td>0.990364</td>\n",
              "    </tr>\n",
              "  </tbody>\n",
              "</table>\n",
              "</div>"
            ],
            "text/plain": [
              "   AUC Train  AUC Test\n",
              "0   0.999994  0.990359\n",
              "1   0.999991  0.991889\n",
              "2   0.999989  0.991940\n",
              "3   0.999994  0.992259\n",
              "4   0.999991  0.990364"
            ]
          },
          "metadata": {},
          "execution_count": 48
        }
      ]
    },
    {
      "cell_type": "code",
      "metadata": {
        "id": "j3JRBTa9TVnL"
      },
      "source": [
        "roc_auc_score(y_test, y_pred, average='macro', sample_weight=None, max_fpr=None, multi_class='raise', labels=None)"
      ],
      "execution_count": null,
      "outputs": []
    },
    {
      "cell_type": "code",
      "metadata": {
        "id": "2J0NkXP6yDa0"
      },
      "source": [
        "fig = plt.figure(figsize=(25,20))\n",
        "#fn=data.feature_names\n",
        "#cn=data.target_names\n",
        "tree.plot_tree(rf.estimators_[0],\n",
        "               filled = True);\n",
        "fig.savefig('rf_full.png')"
      ],
      "execution_count": null,
      "outputs": []
    }
  ]
}